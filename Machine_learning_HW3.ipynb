{
 "cells": [
  {
   "cell_type": "markdown",
   "metadata": {},
   "source": [
    "## Exercise 1 - General Data Preprocessing (20 points)\n",
    "\n",
    "### Libraries that can be used: numpy, scipy, pandas, scikit-learn, cvxpy, imbalanced-learn\n",
    "Any libraries used in the discussion materials are also allowed."
   ]
  },
  {
   "cell_type": "code",
   "execution_count": 3,
   "metadata": {},
   "outputs": [],
   "source": [
    "import pandas as pd \n",
    "\n",
    "df = pd.read_csv(\"garments_worker_productivity.csv\")\n",
    "\n",
    "df.drop('date', axis=1, inplace=True)"
   ]
  },
  {
   "cell_type": "code",
   "execution_count": 4,
   "metadata": {},
   "outputs": [
    {
     "name": "stdout",
     "output_type": "stream",
     "text": [
      "unique values for day:\n",
      "['Thursday' 'Saturday' 'Sunday' 'Monday' 'Tuesday' 'Wednesday']\n",
      "unique values for quarter:\n",
      "['Quarter1' 'Quarter2' 'Quarter3' 'Quarter4' 'Quarter5']\n",
      "unique values for department:\n",
      "['sweing' 'finishing ' 'finishing']\n",
      "unique values for team:\n",
      "[ 8  1 11 12  6  7  2  3  9 10  5  4]\n"
     ]
    }
   ],
   "source": [
    "print(\"unique values for day:\")\n",
    "print(df.day.unique())\n",
    "\n",
    "print(\"unique values for quarter:\")\n",
    "print(df.quarter.unique())\n",
    "\n",
    "print(\"unique values for department:\")\n",
    "print(df.department.unique())\n",
    "\n",
    "print(\"unique values for team:\")\n",
    "print(df.team.unique())"
   ]
  },
  {
   "cell_type": "code",
   "execution_count": 5,
   "metadata": {},
   "outputs": [
    {
     "name": "stderr",
     "output_type": "stream",
     "text": [
      "C:\\Users\\austin lew\\AppData\\Local\\Temp\\ipykernel_1984\\3925956949.py:3: SettingWithCopyWarning: \n",
      "A value is trying to be set on a copy of a slice from a DataFrame\n",
      "\n",
      "See the caveats in the documentation: https://pandas.pydata.org/pandas-docs/stable/user_guide/indexing.html#returning-a-view-versus-a-copy\n",
      "  df.department[i] = \"sewing\"\n",
      "C:\\Users\\austin lew\\AppData\\Local\\Temp\\ipykernel_1984\\3925956949.py:5: SettingWithCopyWarning: \n",
      "A value is trying to be set on a copy of a slice from a DataFrame\n",
      "\n",
      "See the caveats in the documentation: https://pandas.pydata.org/pandas-docs/stable/user_guide/indexing.html#returning-a-view-versus-a-copy\n",
      "  df.department[i] = \"finishing\"\n",
      "C:\\Users\\austin lew\\AppData\\Local\\Temp\\ipykernel_1984\\3925956949.py:14: SettingWithCopyWarning: \n",
      "A value is trying to be set on a copy of a slice from a DataFrame\n",
      "\n",
      "See the caveats in the documentation: https://pandas.pydata.org/pandas-docs/stable/user_guide/indexing.html#returning-a-view-versus-a-copy\n",
      "  df.satisfied[i] = 1\n",
      "C:\\Users\\austin lew\\AppData\\Local\\Temp\\ipykernel_1984\\3925956949.py:12: SettingWithCopyWarning: \n",
      "A value is trying to be set on a copy of a slice from a DataFrame\n",
      "\n",
      "See the caveats in the documentation: https://pandas.pydata.org/pandas-docs/stable/user_guide/indexing.html#returning-a-view-versus-a-copy\n",
      "  df.satisfied[i] = 0\n"
     ]
    },
    {
     "name": "stdout",
     "output_type": "stream",
     "text": [
      "columns with empty values\n",
      "quarter               False\n",
      "department            False\n",
      "day                   False\n",
      "team                  False\n",
      "smv                   False\n",
      "wip                    True\n",
      "over_time             False\n",
      "incentive             False\n",
      "idle_time             False\n",
      "idle_men              False\n",
      "no_of_style_change    False\n",
      "no_of_workers         False\n",
      "satisfied             False\n",
      "dtype: bool\n"
     ]
    }
   ],
   "source": [
    "for i in range(len(df.department)):\n",
    "    if df.department[i] == \"sweing\":\n",
    "        df.department[i] = \"sewing\"\n",
    "    if df.department[i] == \"finishing \":\n",
    "        df.department[i] = \"finishing\"\n",
    "\n",
    "\n",
    "df['satisfied'] = None\n",
    "\n",
    "for i in range(len(df)):\n",
    "    if df.actual_productivity[i] < df.targeted_productivity[i]:\n",
    "        df.satisfied[i] = 0\n",
    "    else:\n",
    "        df.satisfied[i] = 1\n",
    "\n",
    "df.drop('actual_productivity', axis=1, inplace=True)\n",
    "df.drop('targeted_productivity', axis=1, inplace=True)\n",
    "\n",
    "print(\"columns with empty values\")\n",
    "print(df.isnull().any())"
   ]
  },
  {
   "cell_type": "code",
   "execution_count": 6,
   "metadata": {},
   "outputs": [],
   "source": [
    "df = df.fillna(value={'wip': 0})\n"
   ]
  },
  {
   "cell_type": "markdown",
   "metadata": {},
   "source": [
    "## Exercise 2 - Naïve Bayes Classifier (40 points in total)\n",
    "\n",
    "### Exercise 2.1 - Additional Data Preprocessing (10 points)"
   ]
  },
  {
   "cell_type": "code",
   "execution_count": 7,
   "metadata": {},
   "outputs": [],
   "source": [
    "from sklearn.model_selection import train_test_split\n",
    "from sklearn.preprocessing import OneHotEncoder\n",
    "from sklearn.preprocessing import LabelEncoder \n",
    "\n",
    "cat_vars = {'day': df[\"day\"],\n",
    "            'quarter': df[\"quarter\"],\n",
    "            'department': df[\"department\"],\n",
    "            'team': df[\"team\"]}\n",
    "cat_varsdf = pd.DataFrame(cat_vars)\n",
    "\n",
    "myData_encoder = LabelEncoder()\n",
    "\n",
    "Day_encoded =  myData_encoder.fit_transform(cat_varsdf.day) \n",
    "Quarter_encoded = myData_encoder.fit_transform(cat_varsdf.quarter)\n",
    "Department_encoded = myData_encoder.fit_transform(cat_varsdf.department)\n",
    "Team_encoded = myData_encoder.fit_transform(cat_varsdf.team)\n",
    "\n",
    "Day_encoded = pd.DataFrame(Day_encoded)\n",
    "Quarter_encoded = pd.DataFrame(Quarter_encoded)\n",
    "Department_encoded = pd.DataFrame(Department_encoded)\n",
    "Team_encoded = pd.DataFrame(Team_encoded)\n",
    "\n",
    "cat_varsdf.day = Day_encoded\n",
    "cat_varsdf.quarter = Quarter_encoded\n",
    "cat_varsdf.department = Department_encoded\n",
    "cat_varsdf.team = Team_encoded\n",
    "# print(Team_encoded)\n",
    "\n",
    "#Splitting the dataset into training and testing variables\n",
    "X_train, X_test, y_train, y_test = train_test_split(cat_varsdf, df.satisfied, test_size=0.2,random_state=20)\n",
    " \n",
    "#keeping 80% as training data and 20% as testing data.\n"
   ]
  },
  {
   "cell_type": "markdown",
   "metadata": {},
   "source": [
    "### Exercise 2.2 - Naïve Bayes Classifier for Categorical Attributes (15 points)"
   ]
  },
  {
   "cell_type": "code",
   "execution_count": 8,
   "metadata": {},
   "outputs": [
    {
     "name": "stdout",
     "output_type": "stream",
     "text": [
      "Accuracy =\n"
     ]
    },
    {
     "data": {
      "text/plain": [
       "0.7375"
      ]
     },
     "execution_count": 8,
     "metadata": {},
     "output_type": "execute_result"
    }
   ],
   "source": [
    "\n",
    "\n",
    "from sklearn.naive_bayes import GaussianNB\n",
    " \n",
    "#Calling the Class\n",
    "naive_bayes = GaussianNB()\n",
    " \n",
    "#Fitting the data to the classifier\n",
    "naive_bayes.fit(X_train , list(y_train))\n",
    " \n",
    "#Predict on test data\n",
    "classification_report = naive_bayes.predict(X_test)\n",
    "\n",
    "#Import metrics class from sklearn\n",
    "from sklearn import metrics\n",
    " \n",
    "print(\"Accuracy =\")\n",
    "metrics.accuracy_score(classification_report , list(y_test))\n"
   ]
  },
  {
   "cell_type": "markdown",
   "metadata": {},
   "source": [
    "### Exercise 2.3 - Naïve Bayes Classifier for Numerical Attributes (15 points)"
   ]
  },
  {
   "cell_type": "code",
   "execution_count": 9,
   "metadata": {},
   "outputs": [
    {
     "name": "stdout",
     "output_type": "stream",
     "text": [
      "quarter                object\n",
      "department             object\n",
      "day                    object\n",
      "team                    int64\n",
      "smv                   float64\n",
      "wip                   float64\n",
      "over_time               int64\n",
      "incentive               int64\n",
      "idle_time             float64\n",
      "idle_men                int64\n",
      "no_of_style_change      int64\n",
      "no_of_workers         float64\n",
      "satisfied              object\n",
      "dtype: object\n"
     ]
    }
   ],
   "source": [
    "print(df.dtypes)"
   ]
  },
  {
   "cell_type": "code",
   "execution_count": 10,
   "metadata": {},
   "outputs": [],
   "source": [
    "from sklearn.preprocessing import MinMaxScaler\n",
    "\n",
    "num_vars = {'smv': df[\"smv\"],\n",
    "            'wip': df[\"wip\"],\n",
    "            'over_time': df[\"over_time\"],\n",
    "            'incentive': df[\"incentive\"],\n",
    "            'idle_time': df[\"idle_time\"],\n",
    "            'idle_men': df[\"idle_men\"],\n",
    "            'no_of_style_change': df[\"no_of_style_change\"],\n",
    "            'no_of_workers': df[\"no_of_workers\"],}\n",
    "\n",
    "num_varsdf = pd.DataFrame(num_vars)\n",
    "\n",
    "Scaler = MinMaxScaler()\n"
   ]
  },
  {
   "cell_type": "code",
   "execution_count": 11,
   "metadata": {},
   "outputs": [],
   "source": [
    "x = num_varsdf['smv'].values.reshape(-1, 1) #returns a numpy array\n",
    "Smv_encoded =  Scaler.fit_transform(x) \n",
    "\n",
    "x = num_varsdf['wip'].values.reshape(-1, 1) #returns a numpy array\n",
    "Wip_encoded = Scaler.fit_transform(x)\n",
    "\n",
    "x = num_varsdf['over_time'].values.reshape(-1, 1) #returns a numpy array\n",
    "Over_time_encoded = Scaler.fit_transform(x)\n",
    "\n",
    "x = num_varsdf['incentive'].values.reshape(-1, 1) #returns a numpy array\n",
    "Incentive_encoded = Scaler.fit_transform(x)\n",
    "\n",
    "x = num_varsdf['idle_time'].values.reshape(-1, 1) #returns a numpy array\n",
    "Idle_time_encoded =  Scaler.fit_transform(x) \n",
    "\n",
    "x = num_varsdf['idle_men'].values.reshape(-1, 1) #returns a numpy array\n",
    "Idle_men_encoded = Scaler.fit_transform(x)\n",
    "\n",
    "x = num_varsdf['no_of_style_change'].values.reshape(-1, 1) #returns a numpy array\n",
    "No_of_style_change_encoded = Scaler.fit_transform(x)\n",
    "\n",
    "x = num_varsdf['no_of_workers'].values.reshape(-1, 1) #returns a numpy array\n",
    "No_of_workers_encoded = Scaler.fit_transform(x)\n",
    "\n",
    "Smv_encoded = pd.DataFrame(Smv_encoded)\n",
    "Wip_encoded = pd.DataFrame(Wip_encoded)\n",
    "Over_time_encoded = pd.DataFrame(Over_time_encoded)\n",
    "Incentive_encoded = pd.DataFrame(Incentive_encoded)\n",
    "Idle_time_encoded = pd.DataFrame(Idle_time_encoded)\n",
    "Idle_men_encoded = pd.DataFrame(Idle_men_encoded)\n",
    "No_of_style_change_encoded = pd.DataFrame(No_of_style_change_encoded)\n",
    "No_of_workers_encoded = pd.DataFrame(No_of_workers_encoded)\n",
    "\n",
    "num_varsdf.smv = Smv_encoded\n",
    "num_varsdf.wip = Wip_encoded\n",
    "num_varsdf.over_time = Over_time_encoded\n",
    "num_varsdf.incentive = Incentive_encoded\n",
    "num_varsdf.idle_time = Idle_time_encoded\n",
    "num_varsdf.idle_men = Idle_men_encoded\n",
    "num_varsdf.no_of_style_change = No_of_style_change_encoded\n",
    "num_varsdf.no_of_workers = No_of_workers_encoded\n",
    "\n",
    "# #Splitting the dataset into training and testing variables\n",
    "X_train1, X_test1, y_train1, y_test1 = train_test_split(num_varsdf, df.satisfied, test_size=0.2,random_state=20)\n",
    " \n",
    "#keeping 80% as training data and 20% as testing data."
   ]
  },
  {
   "cell_type": "code",
   "execution_count": 12,
   "metadata": {},
   "outputs": [
    {
     "name": "stdout",
     "output_type": "stream",
     "text": [
      "Accuracy =\n"
     ]
    },
    {
     "data": {
      "text/plain": [
       "0.7416666666666667"
      ]
     },
     "execution_count": 12,
     "metadata": {},
     "output_type": "execute_result"
    }
   ],
   "source": [
    "#Fitting the data to the classifier\n",
    "naive_bayes.fit(X_train1 , list(y_train1))\n",
    " \n",
    "#Predict on test data\n",
    "classification_report1 = naive_bayes.predict(X_test1)\n",
    " \n",
    "print(\"Accuracy =\")\n",
    "metrics.accuracy_score(classification_report1 , list(y_test1))"
   ]
  },
  {
   "cell_type": "markdown",
   "metadata": {},
   "source": [
    "## Exercies 3 - SVM Classifier (40 points in total)\n",
    "\n",
    "### Exercise 3.1 - Additional Data Preprocessing (10 points)\n"
   ]
  },
  {
   "cell_type": "code",
   "execution_count": 15,
   "metadata": {},
   "outputs": [
    {
     "name": "stdout",
     "output_type": "stream",
     "text": [
      "       0    1    2    3    4    5    6    7    8    9   ...   15   16   17  \\\n",
      "0     0.0  0.0  0.0  1.0  0.0  0.0  1.0  0.0  0.0  0.0  ...  0.0  0.0  0.0   \n",
      "1     0.0  0.0  0.0  1.0  0.0  0.0  1.0  0.0  0.0  0.0  ...  0.0  0.0  0.0   \n",
      "2     0.0  0.0  0.0  1.0  0.0  0.0  1.0  0.0  0.0  0.0  ...  0.0  0.0  0.0   \n",
      "3     0.0  0.0  0.0  1.0  0.0  0.0  1.0  0.0  0.0  0.0  ...  0.0  0.0  0.0   \n",
      "4     0.0  0.0  0.0  1.0  0.0  0.0  1.0  0.0  0.0  0.0  ...  0.0  0.0  0.0   \n",
      "...   ...  ...  ...  ...  ...  ...  ...  ...  ...  ...  ...  ...  ...  ...   \n",
      "1192  0.0  0.0  0.0  0.0  0.0  1.0  0.0  1.0  0.0  0.0  ...  0.0  0.0  0.0   \n",
      "1193  0.0  0.0  0.0  0.0  0.0  1.0  0.0  1.0  0.0  0.0  ...  0.0  0.0  0.0   \n",
      "1194  0.0  0.0  0.0  0.0  0.0  1.0  0.0  1.0  0.0  0.0  ...  0.0  0.0  0.0   \n",
      "1195  0.0  0.0  0.0  0.0  0.0  1.0  0.0  1.0  0.0  0.0  ...  0.0  0.0  0.0   \n",
      "1196  0.0  0.0  0.0  0.0  0.0  1.0  0.0  1.0  0.0  0.0  ...  0.0  0.0  0.0   \n",
      "\n",
      "       18   19   20   21   22   23   24  \n",
      "0     0.0  0.0  1.0  0.0  0.0  0.0  0.0  \n",
      "1     0.0  0.0  0.0  0.0  0.0  0.0  0.0  \n",
      "2     0.0  0.0  0.0  0.0  0.0  1.0  0.0  \n",
      "3     0.0  0.0  0.0  0.0  0.0  0.0  1.0  \n",
      "4     1.0  0.0  0.0  0.0  0.0  0.0  0.0  \n",
      "...   ...  ...  ...  ...  ...  ...  ...  \n",
      "1192  0.0  0.0  0.0  0.0  1.0  0.0  0.0  \n",
      "1193  0.0  0.0  1.0  0.0  0.0  0.0  0.0  \n",
      "1194  0.0  1.0  0.0  0.0  0.0  0.0  0.0  \n",
      "1195  0.0  0.0  0.0  1.0  0.0  0.0  0.0  \n",
      "1196  1.0  0.0  0.0  0.0  0.0  0.0  0.0  \n",
      "\n",
      "[1197 rows x 25 columns]\n"
     ]
    }
   ],
   "source": [
    "from sklearn.preprocessing import OneHotEncoder\n",
    "from sklearn import svm\n",
    "\n",
    "# binary encode\n",
    "onehot_encoder = OneHotEncoder(sparse=False) # disable sparse return type\n",
    "\n",
    "onehot_data = onehot_encoder.fit_transform(cat_varsdf) \n",
    "onehot_data = pd.DataFrame(onehot_data)\n",
    "\n",
    "print(onehot_data)\n",
    "\n",
    "\n",
    "# #Splitting the dataset into training and testing variables\n",
    "# X_train2, X_test2, y_train2, y_test2 = train_test_split(onehot_data, df.satisfied, test_size=0.2,random_state=20)\n",
    "\n",
    "# onehot_data.smv = num_varsdf.smv\n",
    "# onehot_data.wip = num_varsdf.wip\n",
    "# onehot_data.over_time = num_varsdf.over_time\n",
    "# onehot_data.incentive = num_varsdf.incentive\n",
    "# onehot_data.idle_time = num_varsdf.idle_time\n",
    "# onehot_data.idle_men = num_varsdf.idle_men\n",
    "# onehot_data.no_of_style_change = num_varsdf.no_of_style_change\n",
    "# onehot_data.no_of_workers = num_varsdf.no_of_workers\n"
   ]
  },
  {
   "cell_type": "code",
   "execution_count": 14,
   "metadata": {},
   "outputs": [
    {
     "ename": "ValueError",
     "evalue": "Unknown label type: 'unknown'",
     "output_type": "error",
     "traceback": [
      "\u001b[1;31m---------------------------------------------------------------------------\u001b[0m",
      "\u001b[1;31mValueError\u001b[0m                                Traceback (most recent call last)",
      "\u001b[1;32mc:\\Users\\austin lew\\Documents\\ECS_171_machineLearning\\machine_learning_hw3\\HW3\\Machine_learning_HW3.ipynb Cell 17'\u001b[0m in \u001b[0;36m<cell line: 3>\u001b[1;34m()\u001b[0m\n\u001b[0;32m      <a href='vscode-notebook-cell:/c%3A/Users/austin%20lew/Documents/ECS_171_machineLearning/machine_learning_hw3/HW3/Machine_learning_HW3.ipynb#ch0000016?line=0'>1</a>\u001b[0m \u001b[39m# Create an Instance of SVM and Fit out the data.\u001b[39;00m\n\u001b[0;32m      <a href='vscode-notebook-cell:/c%3A/Users/austin%20lew/Documents/ECS_171_machineLearning/machine_learning_hw3/HW3/Machine_learning_HW3.ipynb#ch0000016?line=1'>2</a>\u001b[0m \u001b[39m# Data is not scaled so as to be able to plot the support vectors\u001b[39;00m\n\u001b[1;32m----> <a href='vscode-notebook-cell:/c%3A/Users/austin%20lew/Documents/ECS_171_machineLearning/machine_learning_hw3/HW3/Machine_learning_HW3.ipynb#ch0000016?line=2'>3</a>\u001b[0m svc \u001b[39m=\u001b[39m svm\u001b[39m.\u001b[39;49mSVC(kernel \u001b[39m=\u001b[39;49m\u001b[39m'\u001b[39;49m\u001b[39mlinear\u001b[39;49m\u001b[39m'\u001b[39;49m, C \u001b[39m=\u001b[39;49m \u001b[39m1\u001b[39;49m)\u001b[39m.\u001b[39;49mfit(X_train2, y_train2)\n",
      "File \u001b[1;32mc:\\Users\\austin lew\\AppData\\Local\\Programs\\Python\\Python39\\lib\\site-packages\\sklearn\\svm\\_base.py:199\u001b[0m, in \u001b[0;36mBaseLibSVM.fit\u001b[1;34m(self, X, y, sample_weight)\u001b[0m\n\u001b[0;32m    <a href='file:///c%3A/Users/austin%20lew/AppData/Local/Programs/Python/Python39/lib/site-packages/sklearn/svm/_base.py?line=188'>189</a>\u001b[0m \u001b[39melse\u001b[39;00m:\n\u001b[0;32m    <a href='file:///c%3A/Users/austin%20lew/AppData/Local/Programs/Python/Python39/lib/site-packages/sklearn/svm/_base.py?line=189'>190</a>\u001b[0m     X, y \u001b[39m=\u001b[39m \u001b[39mself\u001b[39m\u001b[39m.\u001b[39m_validate_data(\n\u001b[0;32m    <a href='file:///c%3A/Users/austin%20lew/AppData/Local/Programs/Python/Python39/lib/site-packages/sklearn/svm/_base.py?line=190'>191</a>\u001b[0m         X,\n\u001b[0;32m    <a href='file:///c%3A/Users/austin%20lew/AppData/Local/Programs/Python/Python39/lib/site-packages/sklearn/svm/_base.py?line=191'>192</a>\u001b[0m         y,\n\u001b[1;32m   (...)\u001b[0m\n\u001b[0;32m    <a href='file:///c%3A/Users/austin%20lew/AppData/Local/Programs/Python/Python39/lib/site-packages/sklearn/svm/_base.py?line=195'>196</a>\u001b[0m         accept_large_sparse\u001b[39m=\u001b[39m\u001b[39mFalse\u001b[39;00m,\n\u001b[0;32m    <a href='file:///c%3A/Users/austin%20lew/AppData/Local/Programs/Python/Python39/lib/site-packages/sklearn/svm/_base.py?line=196'>197</a>\u001b[0m     )\n\u001b[1;32m--> <a href='file:///c%3A/Users/austin%20lew/AppData/Local/Programs/Python/Python39/lib/site-packages/sklearn/svm/_base.py?line=198'>199</a>\u001b[0m y \u001b[39m=\u001b[39m \u001b[39mself\u001b[39;49m\u001b[39m.\u001b[39;49m_validate_targets(y)\n\u001b[0;32m    <a href='file:///c%3A/Users/austin%20lew/AppData/Local/Programs/Python/Python39/lib/site-packages/sklearn/svm/_base.py?line=200'>201</a>\u001b[0m sample_weight \u001b[39m=\u001b[39m np\u001b[39m.\u001b[39masarray(\n\u001b[0;32m    <a href='file:///c%3A/Users/austin%20lew/AppData/Local/Programs/Python/Python39/lib/site-packages/sklearn/svm/_base.py?line=201'>202</a>\u001b[0m     [] \u001b[39mif\u001b[39;00m sample_weight \u001b[39mis\u001b[39;00m \u001b[39mNone\u001b[39;00m \u001b[39melse\u001b[39;00m sample_weight, dtype\u001b[39m=\u001b[39mnp\u001b[39m.\u001b[39mfloat64\n\u001b[0;32m    <a href='file:///c%3A/Users/austin%20lew/AppData/Local/Programs/Python/Python39/lib/site-packages/sklearn/svm/_base.py?line=202'>203</a>\u001b[0m )\n\u001b[0;32m    <a href='file:///c%3A/Users/austin%20lew/AppData/Local/Programs/Python/Python39/lib/site-packages/sklearn/svm/_base.py?line=203'>204</a>\u001b[0m solver_type \u001b[39m=\u001b[39m LIBSVM_IMPL\u001b[39m.\u001b[39mindex(\u001b[39mself\u001b[39m\u001b[39m.\u001b[39m_impl)\n",
      "File \u001b[1;32mc:\\Users\\austin lew\\AppData\\Local\\Programs\\Python\\Python39\\lib\\site-packages\\sklearn\\svm\\_base.py:716\u001b[0m, in \u001b[0;36mBaseSVC._validate_targets\u001b[1;34m(self, y)\u001b[0m\n\u001b[0;32m    <a href='file:///c%3A/Users/austin%20lew/AppData/Local/Programs/Python/Python39/lib/site-packages/sklearn/svm/_base.py?line=713'>714</a>\u001b[0m \u001b[39mdef\u001b[39;00m \u001b[39m_validate_targets\u001b[39m(\u001b[39mself\u001b[39m, y):\n\u001b[0;32m    <a href='file:///c%3A/Users/austin%20lew/AppData/Local/Programs/Python/Python39/lib/site-packages/sklearn/svm/_base.py?line=714'>715</a>\u001b[0m     y_ \u001b[39m=\u001b[39m column_or_1d(y, warn\u001b[39m=\u001b[39m\u001b[39mTrue\u001b[39;00m)\n\u001b[1;32m--> <a href='file:///c%3A/Users/austin%20lew/AppData/Local/Programs/Python/Python39/lib/site-packages/sklearn/svm/_base.py?line=715'>716</a>\u001b[0m     check_classification_targets(y)\n\u001b[0;32m    <a href='file:///c%3A/Users/austin%20lew/AppData/Local/Programs/Python/Python39/lib/site-packages/sklearn/svm/_base.py?line=716'>717</a>\u001b[0m     \u001b[39mcls\u001b[39m, y \u001b[39m=\u001b[39m np\u001b[39m.\u001b[39munique(y_, return_inverse\u001b[39m=\u001b[39m\u001b[39mTrue\u001b[39;00m)\n\u001b[0;32m    <a href='file:///c%3A/Users/austin%20lew/AppData/Local/Programs/Python/Python39/lib/site-packages/sklearn/svm/_base.py?line=717'>718</a>\u001b[0m     \u001b[39mself\u001b[39m\u001b[39m.\u001b[39mclass_weight_ \u001b[39m=\u001b[39m compute_class_weight(\u001b[39mself\u001b[39m\u001b[39m.\u001b[39mclass_weight, classes\u001b[39m=\u001b[39m\u001b[39mcls\u001b[39m, y\u001b[39m=\u001b[39my_)\n",
      "File \u001b[1;32mc:\\Users\\austin lew\\AppData\\Local\\Programs\\Python\\Python39\\lib\\site-packages\\sklearn\\utils\\multiclass.py:197\u001b[0m, in \u001b[0;36mcheck_classification_targets\u001b[1;34m(y)\u001b[0m\n\u001b[0;32m    <a href='file:///c%3A/Users/austin%20lew/AppData/Local/Programs/Python/Python39/lib/site-packages/sklearn/utils/multiclass.py?line=188'>189</a>\u001b[0m y_type \u001b[39m=\u001b[39m type_of_target(y)\n\u001b[0;32m    <a href='file:///c%3A/Users/austin%20lew/AppData/Local/Programs/Python/Python39/lib/site-packages/sklearn/utils/multiclass.py?line=189'>190</a>\u001b[0m \u001b[39mif\u001b[39;00m y_type \u001b[39mnot\u001b[39;00m \u001b[39min\u001b[39;00m [\n\u001b[0;32m    <a href='file:///c%3A/Users/austin%20lew/AppData/Local/Programs/Python/Python39/lib/site-packages/sklearn/utils/multiclass.py?line=190'>191</a>\u001b[0m     \u001b[39m\"\u001b[39m\u001b[39mbinary\u001b[39m\u001b[39m\"\u001b[39m,\n\u001b[0;32m    <a href='file:///c%3A/Users/austin%20lew/AppData/Local/Programs/Python/Python39/lib/site-packages/sklearn/utils/multiclass.py?line=191'>192</a>\u001b[0m     \u001b[39m\"\u001b[39m\u001b[39mmulticlass\u001b[39m\u001b[39m\"\u001b[39m,\n\u001b[1;32m   (...)\u001b[0m\n\u001b[0;32m    <a href='file:///c%3A/Users/austin%20lew/AppData/Local/Programs/Python/Python39/lib/site-packages/sklearn/utils/multiclass.py?line=194'>195</a>\u001b[0m     \u001b[39m\"\u001b[39m\u001b[39mmultilabel-sequences\u001b[39m\u001b[39m\"\u001b[39m,\n\u001b[0;32m    <a href='file:///c%3A/Users/austin%20lew/AppData/Local/Programs/Python/Python39/lib/site-packages/sklearn/utils/multiclass.py?line=195'>196</a>\u001b[0m ]:\n\u001b[1;32m--> <a href='file:///c%3A/Users/austin%20lew/AppData/Local/Programs/Python/Python39/lib/site-packages/sklearn/utils/multiclass.py?line=196'>197</a>\u001b[0m     \u001b[39mraise\u001b[39;00m \u001b[39mValueError\u001b[39;00m(\u001b[39m\"\u001b[39m\u001b[39mUnknown label type: \u001b[39m\u001b[39m%r\u001b[39;00m\u001b[39m\"\u001b[39m \u001b[39m%\u001b[39m y_type)\n",
      "\u001b[1;31mValueError\u001b[0m: Unknown label type: 'unknown'"
     ]
    }
   ],
   "source": [
    "\n",
    "\n",
    "\n",
    "\n",
    "\n",
    "\n",
    "# Create an Instance of SVM and Fit out the data.\n",
    "# Data is not scaled so as to be able to plot the support vectors\n",
    "# svc = svm.SVC(kernel ='linear', C = 1).fit(X_train2, y_train2)\n",
    "\n"
   ]
  }
 ],
 "metadata": {
  "interpreter": {
   "hash": "8511e03213d67b3102df803bbfd9f3594c87d6a47de97c6aef092a22eb5d53b9"
  },
  "kernelspec": {
   "display_name": "Python 3.9.1 64-bit",
   "language": "python",
   "name": "python3"
  },
  "language_info": {
   "codemirror_mode": {
    "name": "ipython",
    "version": 3
   },
   "file_extension": ".py",
   "mimetype": "text/x-python",
   "name": "python",
   "nbconvert_exporter": "python",
   "pygments_lexer": "ipython3",
   "version": "3.9.1"
  },
  "orig_nbformat": 4
 },
 "nbformat": 4,
 "nbformat_minor": 2
}
