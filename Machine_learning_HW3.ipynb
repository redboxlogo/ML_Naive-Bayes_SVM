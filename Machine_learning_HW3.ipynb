{
 "cells": [
  {
   "cell_type": "markdown",
   "metadata": {},
   "source": [
    "## Exercise 1 - General Data Preprocessing (20 points)\n",
    "\n",
    "### Libraries that can be used: numpy, scipy, pandas, scikit-learn, cvxpy, imbalanced-learn\n",
    "Any libraries used in the discussion materials are also allowed."
   ]
  },
  {
   "cell_type": "code",
   "execution_count": 14,
   "metadata": {},
   "outputs": [],
   "source": [
    "import pandas as pd \n",
    "\n",
    "df = pd.read_csv(\"garments_worker_productivity.csv\")\n",
    "\n",
    "df.drop('date', axis=1, inplace=True)"
   ]
  },
  {
   "cell_type": "code",
   "execution_count": 15,
   "metadata": {},
   "outputs": [
    {
     "name": "stdout",
     "output_type": "stream",
     "text": [
      "unique values for day:\n",
      "['Thursday' 'Saturday' 'Sunday' 'Monday' 'Tuesday' 'Wednesday']\n",
      "unique values for quarter:\n",
      "['Quarter1' 'Quarter2' 'Quarter3' 'Quarter4' 'Quarter5']\n",
      "unique values for department:\n",
      "['sweing' 'finishing ' 'finishing']\n",
      "unique values for team:\n",
      "[ 8  1 11 12  6  7  2  3  9 10  5  4]\n"
     ]
    }
   ],
   "source": [
    "print(\"unique values for day:\")\n",
    "print(df.day.unique())\n",
    "\n",
    "print(\"unique values for quarter:\")\n",
    "print(df.quarter.unique())\n",
    "\n",
    "print(\"unique values for department:\")\n",
    "print(df.department.unique())\n",
    "\n",
    "print(\"unique values for team:\")\n",
    "print(df.team.unique())"
   ]
  },
  {
   "cell_type": "code",
   "execution_count": 16,
   "metadata": {},
   "outputs": [
    {
     "name": "stderr",
     "output_type": "stream",
     "text": [
      "C:\\Users\\austin lew\\AppData\\Local\\Temp\\ipykernel_25164\\3925956949.py:3: SettingWithCopyWarning: \n",
      "A value is trying to be set on a copy of a slice from a DataFrame\n",
      "\n",
      "See the caveats in the documentation: https://pandas.pydata.org/pandas-docs/stable/user_guide/indexing.html#returning-a-view-versus-a-copy\n",
      "  df.department[i] = \"sewing\"\n",
      "C:\\Users\\austin lew\\AppData\\Local\\Temp\\ipykernel_25164\\3925956949.py:5: SettingWithCopyWarning: \n",
      "A value is trying to be set on a copy of a slice from a DataFrame\n",
      "\n",
      "See the caveats in the documentation: https://pandas.pydata.org/pandas-docs/stable/user_guide/indexing.html#returning-a-view-versus-a-copy\n",
      "  df.department[i] = \"finishing\"\n"
     ]
    },
    {
     "ename": "KeyboardInterrupt",
     "evalue": "",
     "output_type": "error",
     "traceback": [
      "\u001b[1;31m---------------------------------------------------------------------------\u001b[0m",
      "\u001b[1;31mKeyboardInterrupt\u001b[0m                         Traceback (most recent call last)",
      "\u001b[1;32mc:\\Users\\austin lew\\Documents\\ECS_171_machineLearning\\machine_learning_hw3\\HW3\\Machine_learning_HW3.ipynb Cell 4'\u001b[0m in \u001b[0;36m<cell line: 1>\u001b[1;34m()\u001b[0m\n\u001b[0;32m      <a href='vscode-notebook-cell:/c%3A/Users/austin%20lew/Documents/ECS_171_machineLearning/machine_learning_hw3/HW3/Machine_learning_HW3.ipynb#ch0000003?line=0'>1</a>\u001b[0m \u001b[39mfor\u001b[39;00m i \u001b[39min\u001b[39;00m \u001b[39mrange\u001b[39m(\u001b[39mlen\u001b[39m(df\u001b[39m.\u001b[39mdepartment)):\n\u001b[0;32m      <a href='vscode-notebook-cell:/c%3A/Users/austin%20lew/Documents/ECS_171_machineLearning/machine_learning_hw3/HW3/Machine_learning_HW3.ipynb#ch0000003?line=1'>2</a>\u001b[0m     \u001b[39mif\u001b[39;00m df\u001b[39m.\u001b[39mdepartment[i] \u001b[39m==\u001b[39m \u001b[39m\"\u001b[39m\u001b[39msweing\u001b[39m\u001b[39m\"\u001b[39m:\n\u001b[1;32m----> <a href='vscode-notebook-cell:/c%3A/Users/austin%20lew/Documents/ECS_171_machineLearning/machine_learning_hw3/HW3/Machine_learning_HW3.ipynb#ch0000003?line=2'>3</a>\u001b[0m         df\u001b[39m.\u001b[39mdepartment[i] \u001b[39m=\u001b[39m \u001b[39m\"\u001b[39m\u001b[39msewing\u001b[39m\u001b[39m\"\u001b[39m\n\u001b[0;32m      <a href='vscode-notebook-cell:/c%3A/Users/austin%20lew/Documents/ECS_171_machineLearning/machine_learning_hw3/HW3/Machine_learning_HW3.ipynb#ch0000003?line=3'>4</a>\u001b[0m     \u001b[39mif\u001b[39;00m df\u001b[39m.\u001b[39mdepartment[i] \u001b[39m==\u001b[39m \u001b[39m\"\u001b[39m\u001b[39mfinishing \u001b[39m\u001b[39m\"\u001b[39m:\n\u001b[0;32m      <a href='vscode-notebook-cell:/c%3A/Users/austin%20lew/Documents/ECS_171_machineLearning/machine_learning_hw3/HW3/Machine_learning_HW3.ipynb#ch0000003?line=4'>5</a>\u001b[0m         df\u001b[39m.\u001b[39mdepartment[i] \u001b[39m=\u001b[39m \u001b[39m\"\u001b[39m\u001b[39mfinishing\u001b[39m\u001b[39m\"\u001b[39m\n",
      "File \u001b[1;32mc:\\Users\\austin lew\\AppData\\Local\\Programs\\Python\\Python39\\lib\\site-packages\\pandas\\core\\series.py:1075\u001b[0m, in \u001b[0;36mSeries.__setitem__\u001b[1;34m(self, key, value)\u001b[0m\n\u001b[0;32m   <a href='file:///c%3A/Users/austin%20lew/AppData/Local/Programs/Python/Python39/lib/site-packages/pandas/core/series.py?line=1072'>1073</a>\u001b[0m check_deprecated_indexers(key)\n\u001b[0;32m   <a href='file:///c%3A/Users/austin%20lew/AppData/Local/Programs/Python/Python39/lib/site-packages/pandas/core/series.py?line=1073'>1074</a>\u001b[0m key \u001b[39m=\u001b[39m com\u001b[39m.\u001b[39mapply_if_callable(key, \u001b[39mself\u001b[39m)\n\u001b[1;32m-> <a href='file:///c%3A/Users/austin%20lew/AppData/Local/Programs/Python/Python39/lib/site-packages/pandas/core/series.py?line=1074'>1075</a>\u001b[0m cacher_needs_updating \u001b[39m=\u001b[39m \u001b[39mself\u001b[39;49m\u001b[39m.\u001b[39;49m_check_is_chained_assignment_possible()\n\u001b[0;32m   <a href='file:///c%3A/Users/austin%20lew/AppData/Local/Programs/Python/Python39/lib/site-packages/pandas/core/series.py?line=1076'>1077</a>\u001b[0m \u001b[39mif\u001b[39;00m key \u001b[39mis\u001b[39;00m \u001b[39mEllipsis\u001b[39m:\n\u001b[0;32m   <a href='file:///c%3A/Users/austin%20lew/AppData/Local/Programs/Python/Python39/lib/site-packages/pandas/core/series.py?line=1077'>1078</a>\u001b[0m     key \u001b[39m=\u001b[39m \u001b[39mslice\u001b[39m(\u001b[39mNone\u001b[39;00m)\n",
      "File \u001b[1;32mc:\\Users\\austin lew\\AppData\\Local\\Programs\\Python\\Python39\\lib\\site-packages\\pandas\\core\\series.py:1256\u001b[0m, in \u001b[0;36mSeries._check_is_chained_assignment_possible\u001b[1;34m(self)\u001b[0m\n\u001b[0;32m   <a href='file:///c%3A/Users/austin%20lew/AppData/Local/Programs/Python/Python39/lib/site-packages/pandas/core/series.py?line=1253'>1254</a>\u001b[0m     ref \u001b[39m=\u001b[39m \u001b[39mself\u001b[39m\u001b[39m.\u001b[39m_get_cacher()\n\u001b[0;32m   <a href='file:///c%3A/Users/austin%20lew/AppData/Local/Programs/Python/Python39/lib/site-packages/pandas/core/series.py?line=1254'>1255</a>\u001b[0m     \u001b[39mif\u001b[39;00m ref \u001b[39mis\u001b[39;00m \u001b[39mnot\u001b[39;00m \u001b[39mNone\u001b[39;00m \u001b[39mand\u001b[39;00m ref\u001b[39m.\u001b[39m_is_mixed_type:\n\u001b[1;32m-> <a href='file:///c%3A/Users/austin%20lew/AppData/Local/Programs/Python/Python39/lib/site-packages/pandas/core/series.py?line=1255'>1256</a>\u001b[0m         \u001b[39mself\u001b[39;49m\u001b[39m.\u001b[39;49m_check_setitem_copy(t\u001b[39m=\u001b[39;49m\u001b[39m\"\u001b[39;49m\u001b[39mreferent\u001b[39;49m\u001b[39m\"\u001b[39;49m, force\u001b[39m=\u001b[39;49m\u001b[39mTrue\u001b[39;49;00m)\n\u001b[0;32m   <a href='file:///c%3A/Users/austin%20lew/AppData/Local/Programs/Python/Python39/lib/site-packages/pandas/core/series.py?line=1256'>1257</a>\u001b[0m     \u001b[39mreturn\u001b[39;00m \u001b[39mTrue\u001b[39;00m\n\u001b[0;32m   <a href='file:///c%3A/Users/austin%20lew/AppData/Local/Programs/Python/Python39/lib/site-packages/pandas/core/series.py?line=1257'>1258</a>\u001b[0m \u001b[39mreturn\u001b[39;00m \u001b[39msuper\u001b[39m()\u001b[39m.\u001b[39m_check_is_chained_assignment_possible()\n",
      "File \u001b[1;32mc:\\Users\\austin lew\\AppData\\Local\\Programs\\Python\\Python39\\lib\\site-packages\\pandas\\core\\generic.py:4018\u001b[0m, in \u001b[0;36mNDFrame._check_setitem_copy\u001b[1;34m(self, t, force)\u001b[0m\n\u001b[0;32m   <a href='file:///c%3A/Users/austin%20lew/AppData/Local/Programs/Python/Python39/lib/site-packages/pandas/core/generic.py?line=4015'>4016</a>\u001b[0m     \u001b[39mraise\u001b[39;00m com\u001b[39m.\u001b[39mSettingWithCopyError(t)\n\u001b[0;32m   <a href='file:///c%3A/Users/austin%20lew/AppData/Local/Programs/Python/Python39/lib/site-packages/pandas/core/generic.py?line=4016'>4017</a>\u001b[0m \u001b[39melif\u001b[39;00m value \u001b[39m==\u001b[39m \u001b[39m\"\u001b[39m\u001b[39mwarn\u001b[39m\u001b[39m\"\u001b[39m:\n\u001b[1;32m-> <a href='file:///c%3A/Users/austin%20lew/AppData/Local/Programs/Python/Python39/lib/site-packages/pandas/core/generic.py?line=4017'>4018</a>\u001b[0m     warnings\u001b[39m.\u001b[39mwarn(t, com\u001b[39m.\u001b[39mSettingWithCopyWarning, stacklevel\u001b[39m=\u001b[39mfind_stack_level())\n",
      "File \u001b[1;32mc:\\Users\\austin lew\\AppData\\Local\\Programs\\Python\\Python39\\lib\\site-packages\\pandas\\util\\_exceptions.py:32\u001b[0m, in \u001b[0;36mfind_stack_level\u001b[1;34m()\u001b[0m\n\u001b[0;32m     <a href='file:///c%3A/Users/austin%20lew/AppData/Local/Programs/Python/Python39/lib/site-packages/pandas/util/_exceptions.py?line=26'>27</a>\u001b[0m \u001b[39mdef\u001b[39;00m \u001b[39mfind_stack_level\u001b[39m() \u001b[39m-\u001b[39m\u001b[39m>\u001b[39m \u001b[39mint\u001b[39m:\n\u001b[0;32m     <a href='file:///c%3A/Users/austin%20lew/AppData/Local/Programs/Python/Python39/lib/site-packages/pandas/util/_exceptions.py?line=27'>28</a>\u001b[0m     \u001b[39m\"\"\"\u001b[39;00m\n\u001b[0;32m     <a href='file:///c%3A/Users/austin%20lew/AppData/Local/Programs/Python/Python39/lib/site-packages/pandas/util/_exceptions.py?line=28'>29</a>\u001b[0m \u001b[39m    Find the first place in the stack that is not inside pandas\u001b[39;00m\n\u001b[0;32m     <a href='file:///c%3A/Users/austin%20lew/AppData/Local/Programs/Python/Python39/lib/site-packages/pandas/util/_exceptions.py?line=29'>30</a>\u001b[0m \u001b[39m    (tests notwithstanding).\u001b[39;00m\n\u001b[0;32m     <a href='file:///c%3A/Users/austin%20lew/AppData/Local/Programs/Python/Python39/lib/site-packages/pandas/util/_exceptions.py?line=30'>31</a>\u001b[0m \u001b[39m    \"\"\"\u001b[39;00m\n\u001b[1;32m---> <a href='file:///c%3A/Users/austin%20lew/AppData/Local/Programs/Python/Python39/lib/site-packages/pandas/util/_exceptions.py?line=31'>32</a>\u001b[0m     stack \u001b[39m=\u001b[39m inspect\u001b[39m.\u001b[39;49mstack()\n\u001b[0;32m     <a href='file:///c%3A/Users/austin%20lew/AppData/Local/Programs/Python/Python39/lib/site-packages/pandas/util/_exceptions.py?line=33'>34</a>\u001b[0m     \u001b[39mimport\u001b[39;00m \u001b[39mpandas\u001b[39;00m \u001b[39mas\u001b[39;00m \u001b[39mpd\u001b[39;00m\n\u001b[0;32m     <a href='file:///c%3A/Users/austin%20lew/AppData/Local/Programs/Python/Python39/lib/site-packages/pandas/util/_exceptions.py?line=35'>36</a>\u001b[0m     pkg_dir \u001b[39m=\u001b[39m os\u001b[39m.\u001b[39mpath\u001b[39m.\u001b[39mdirname(pd\u001b[39m.\u001b[39m\u001b[39m__file__\u001b[39m)\n",
      "File \u001b[1;32mc:\\Users\\austin lew\\AppData\\Local\\Programs\\Python\\Python39\\lib\\inspect.py:1552\u001b[0m, in \u001b[0;36mstack\u001b[1;34m(context)\u001b[0m\n\u001b[0;32m   <a href='file:///c%3A/Users/austin%20lew/AppData/Local/Programs/Python/Python39/lib/inspect.py?line=1549'>1550</a>\u001b[0m \u001b[39mdef\u001b[39;00m \u001b[39mstack\u001b[39m(context\u001b[39m=\u001b[39m\u001b[39m1\u001b[39m):\n\u001b[0;32m   <a href='file:///c%3A/Users/austin%20lew/AppData/Local/Programs/Python/Python39/lib/inspect.py?line=1550'>1551</a>\u001b[0m     \u001b[39m\"\"\"Return a list of records for the stack above the caller's frame.\"\"\"\u001b[39;00m\n\u001b[1;32m-> <a href='file:///c%3A/Users/austin%20lew/AppData/Local/Programs/Python/Python39/lib/inspect.py?line=1551'>1552</a>\u001b[0m     \u001b[39mreturn\u001b[39;00m getouterframes(sys\u001b[39m.\u001b[39;49m_getframe(\u001b[39m1\u001b[39;49m), context)\n",
      "File \u001b[1;32mc:\\Users\\austin lew\\AppData\\Local\\Programs\\Python\\Python39\\lib\\inspect.py:1529\u001b[0m, in \u001b[0;36mgetouterframes\u001b[1;34m(frame, context)\u001b[0m\n\u001b[0;32m   <a href='file:///c%3A/Users/austin%20lew/AppData/Local/Programs/Python/Python39/lib/inspect.py?line=1526'>1527</a>\u001b[0m framelist \u001b[39m=\u001b[39m []\n\u001b[0;32m   <a href='file:///c%3A/Users/austin%20lew/AppData/Local/Programs/Python/Python39/lib/inspect.py?line=1527'>1528</a>\u001b[0m \u001b[39mwhile\u001b[39;00m frame:\n\u001b[1;32m-> <a href='file:///c%3A/Users/austin%20lew/AppData/Local/Programs/Python/Python39/lib/inspect.py?line=1528'>1529</a>\u001b[0m     frameinfo \u001b[39m=\u001b[39m (frame,) \u001b[39m+\u001b[39m getframeinfo(frame, context)\n\u001b[0;32m   <a href='file:///c%3A/Users/austin%20lew/AppData/Local/Programs/Python/Python39/lib/inspect.py?line=1529'>1530</a>\u001b[0m     framelist\u001b[39m.\u001b[39mappend(FrameInfo(\u001b[39m*\u001b[39mframeinfo))\n\u001b[0;32m   <a href='file:///c%3A/Users/austin%20lew/AppData/Local/Programs/Python/Python39/lib/inspect.py?line=1530'>1531</a>\u001b[0m     frame \u001b[39m=\u001b[39m frame\u001b[39m.\u001b[39mf_back\n",
      "File \u001b[1;32mc:\\Users\\austin lew\\AppData\\Local\\Programs\\Python\\Python39\\lib\\inspect.py:1499\u001b[0m, in \u001b[0;36mgetframeinfo\u001b[1;34m(frame, context)\u001b[0m\n\u001b[0;32m   <a href='file:///c%3A/Users/austin%20lew/AppData/Local/Programs/Python/Python39/lib/inspect.py?line=1495'>1496</a>\u001b[0m \u001b[39mif\u001b[39;00m \u001b[39mnot\u001b[39;00m isframe(frame):\n\u001b[0;32m   <a href='file:///c%3A/Users/austin%20lew/AppData/Local/Programs/Python/Python39/lib/inspect.py?line=1496'>1497</a>\u001b[0m     \u001b[39mraise\u001b[39;00m \u001b[39mTypeError\u001b[39;00m(\u001b[39m'\u001b[39m\u001b[39m{!r}\u001b[39;00m\u001b[39m is not a frame or traceback object\u001b[39m\u001b[39m'\u001b[39m\u001b[39m.\u001b[39mformat(frame))\n\u001b[1;32m-> <a href='file:///c%3A/Users/austin%20lew/AppData/Local/Programs/Python/Python39/lib/inspect.py?line=1498'>1499</a>\u001b[0m filename \u001b[39m=\u001b[39m getsourcefile(frame) \u001b[39mor\u001b[39;00m getfile(frame)\n\u001b[0;32m   <a href='file:///c%3A/Users/austin%20lew/AppData/Local/Programs/Python/Python39/lib/inspect.py?line=1499'>1500</a>\u001b[0m \u001b[39mif\u001b[39;00m context \u001b[39m>\u001b[39m \u001b[39m0\u001b[39m:\n\u001b[0;32m   <a href='file:///c%3A/Users/austin%20lew/AppData/Local/Programs/Python/Python39/lib/inspect.py?line=1500'>1501</a>\u001b[0m     start \u001b[39m=\u001b[39m lineno \u001b[39m-\u001b[39m \u001b[39m1\u001b[39m \u001b[39m-\u001b[39m context\u001b[39m/\u001b[39m\u001b[39m/\u001b[39m\u001b[39m2\u001b[39m\n",
      "File \u001b[1;32mc:\\Users\\austin lew\\AppData\\Local\\Programs\\Python\\Python39\\lib\\inspect.py:706\u001b[0m, in \u001b[0;36mgetsourcefile\u001b[1;34m(object)\u001b[0m\n\u001b[0;32m    <a href='file:///c%3A/Users/austin%20lew/AppData/Local/Programs/Python/Python39/lib/inspect.py?line=702'>703</a>\u001b[0m \u001b[39melif\u001b[39;00m \u001b[39many\u001b[39m(filename\u001b[39m.\u001b[39mendswith(s) \u001b[39mfor\u001b[39;00m s \u001b[39min\u001b[39;00m\n\u001b[0;32m    <a href='file:///c%3A/Users/austin%20lew/AppData/Local/Programs/Python/Python39/lib/inspect.py?line=703'>704</a>\u001b[0m              importlib\u001b[39m.\u001b[39mmachinery\u001b[39m.\u001b[39mEXTENSION_SUFFIXES):\n\u001b[0;32m    <a href='file:///c%3A/Users/austin%20lew/AppData/Local/Programs/Python/Python39/lib/inspect.py?line=704'>705</a>\u001b[0m     \u001b[39mreturn\u001b[39;00m \u001b[39mNone\u001b[39;00m\n\u001b[1;32m--> <a href='file:///c%3A/Users/austin%20lew/AppData/Local/Programs/Python/Python39/lib/inspect.py?line=705'>706</a>\u001b[0m \u001b[39mif\u001b[39;00m os\u001b[39m.\u001b[39;49mpath\u001b[39m.\u001b[39;49mexists(filename):\n\u001b[0;32m    <a href='file:///c%3A/Users/austin%20lew/AppData/Local/Programs/Python/Python39/lib/inspect.py?line=706'>707</a>\u001b[0m     \u001b[39mreturn\u001b[39;00m filename\n\u001b[0;32m    <a href='file:///c%3A/Users/austin%20lew/AppData/Local/Programs/Python/Python39/lib/inspect.py?line=707'>708</a>\u001b[0m \u001b[39m# only return a non-existent filename if the module has a PEP 302 loader\u001b[39;00m\n",
      "File \u001b[1;32mc:\\Users\\austin lew\\AppData\\Local\\Programs\\Python\\Python39\\lib\\genericpath.py:19\u001b[0m, in \u001b[0;36mexists\u001b[1;34m(path)\u001b[0m\n\u001b[0;32m     <a href='file:///c%3A/Users/austin%20lew/AppData/Local/Programs/Python/Python39/lib/genericpath.py?line=16'>17</a>\u001b[0m \u001b[39m\"\"\"Test whether a path exists.  Returns False for broken symbolic links\"\"\"\u001b[39;00m\n\u001b[0;32m     <a href='file:///c%3A/Users/austin%20lew/AppData/Local/Programs/Python/Python39/lib/genericpath.py?line=17'>18</a>\u001b[0m \u001b[39mtry\u001b[39;00m:\n\u001b[1;32m---> <a href='file:///c%3A/Users/austin%20lew/AppData/Local/Programs/Python/Python39/lib/genericpath.py?line=18'>19</a>\u001b[0m     os\u001b[39m.\u001b[39;49mstat(path)\n\u001b[0;32m     <a href='file:///c%3A/Users/austin%20lew/AppData/Local/Programs/Python/Python39/lib/genericpath.py?line=19'>20</a>\u001b[0m \u001b[39mexcept\u001b[39;00m (\u001b[39mOSError\u001b[39;00m, \u001b[39mValueError\u001b[39;00m):\n\u001b[0;32m     <a href='file:///c%3A/Users/austin%20lew/AppData/Local/Programs/Python/Python39/lib/genericpath.py?line=20'>21</a>\u001b[0m     \u001b[39mreturn\u001b[39;00m \u001b[39mFalse\u001b[39;00m\n",
      "\u001b[1;31mKeyboardInterrupt\u001b[0m: "
     ]
    }
   ],
   "source": [
    "for i in range(len(df.department)):\n",
    "    if df.department[i] == \"sweing\":\n",
    "        df.department[i] = \"sewing\"\n",
    "    if df.department[i] == \"finishing \":\n",
    "        df.department[i] = \"finishing\"\n",
    "\n",
    "\n",
    "df['satisfied'] = None\n",
    "\n",
    "for i in range(len(df)):\n",
    "    if df.actual_productivity[i] < df.targeted_productivity[i]:\n",
    "        df.satisfied[i] = 0\n",
    "    else:\n",
    "        df.satisfied[i] = 1\n",
    "\n",
    "df.drop('actual_productivity', axis=1, inplace=True)\n",
    "df.drop('targeted_productivity', axis=1, inplace=True)\n",
    "\n",
    "print(\"columns with empty values\")\n",
    "print(df.isnull().any())"
   ]
  },
  {
   "cell_type": "code",
   "execution_count": null,
   "metadata": {},
   "outputs": [],
   "source": [
    "df = df.fillna(value={'wip': 0})\n"
   ]
  },
  {
   "cell_type": "markdown",
   "metadata": {},
   "source": [
    "## Exercise 2 - Naïve Bayes Classifier (40 points in total)\n",
    "\n",
    "### Exercise 2.1 - Additional Data Preprocessing (10 points)"
   ]
  },
  {
   "cell_type": "code",
   "execution_count": null,
   "metadata": {},
   "outputs": [],
   "source": [
    "from sklearn.model_selection import train_test_split\n",
    "from sklearn.preprocessing import OneHotEncoder\n",
    "from sklearn.preprocessing import LabelEncoder \n",
    "\n",
    "cat_vars = {'day': df[\"day\"],\n",
    "            'quarter': df[\"quarter\"],\n",
    "            'department': df[\"department\"],\n",
    "            'team': df[\"team\"]}\n",
    "cat_varsdf = pd.DataFrame(cat_vars)\n",
    "\n",
    "myData_encoder = LabelEncoder()\n",
    "\n",
    "Day_encoded =  myData_encoder.fit_transform(cat_varsdf.day) \n",
    "Quarter_encoded = myData_encoder.fit_transform(cat_varsdf.quarter)\n",
    "Department_encoded = myData_encoder.fit_transform(cat_varsdf.department)\n",
    "Team_encoded = myData_encoder.fit_transform(cat_varsdf.team)\n",
    "\n",
    "Day_encoded = pd.DataFrame(Day_encoded)\n",
    "Quarter_encoded = pd.DataFrame(Quarter_encoded)\n",
    "Department_encoded = pd.DataFrame(Department_encoded)\n",
    "Team_encoded = pd.DataFrame(Team_encoded)\n",
    "\n",
    "cat_varsdf.day = Day_encoded\n",
    "cat_varsdf.quarter = Quarter_encoded\n",
    "cat_varsdf.department = Department_encoded\n",
    "cat_varsdf.team = Team_encoded\n",
    "# print(Team_encoded)\n",
    "\n",
    "df.satisfied = df.satisfied.apply(int)\n",
    "\n",
    "#Splitting the dataset into training and testing variables\n",
    "X_train, X_test, y_train, y_test = train_test_split(cat_varsdf, df.satisfied, test_size=0.2,random_state=20)\n",
    "# X_train, X_test, y_train, y_test = train_test_split(cat_varsdf, df.satisfied, test_size=0.2,random_state=20)\n",
    "#keeping 80% as training data and 20% as testing data.\n"
   ]
  },
  {
   "cell_type": "markdown",
   "metadata": {},
   "source": [
    "### Exercise 2.2 - Naïve Bayes Classifier for Categorical Attributes (15 points)"
   ]
  },
  {
   "cell_type": "code",
   "execution_count": null,
   "metadata": {},
   "outputs": [
    {
     "name": "stdout",
     "output_type": "stream",
     "text": [
      "              precision    recall  f1-score   support\n",
      "\n",
      "           0       0.77      0.26      0.39        65\n",
      "           1       0.78      0.97      0.87       175\n",
      "\n",
      "    accuracy                           0.78       240\n",
      "   macro avg       0.78      0.62      0.63       240\n",
      "weighted avg       0.78      0.78      0.74       240\n",
      "\n"
     ]
    }
   ],
   "source": [
    "# Remember to do this task with your processed data from Exercise 2.1\n",
    "from sklearn.metrics import classification_report\n",
    "from sklearn.naive_bayes import CategoricalNB\n",
    "\n",
    "\n",
    "\n",
    "NB = CategoricalNB() # Try CategoricalNB here.\n",
    "NB.fit(X_train, y_train)\n",
    "\n",
    "print(classification_report(y_test, NB.predict(X_test)))"
   ]
  },
  {
   "cell_type": "markdown",
   "metadata": {},
   "source": [
    "### Exercise 2.3 - Naïve Bayes Classifier for Numerical Attributes (15 points)"
   ]
  },
  {
   "cell_type": "code",
   "execution_count": null,
   "metadata": {},
   "outputs": [],
   "source": [
    "from sklearn.preprocessing import MinMaxScaler\n",
    "\n",
    "num_vars = {'smv': df[\"smv\"],\n",
    "            'wip': df[\"wip\"],\n",
    "            'over_time': df[\"over_time\"],\n",
    "            'incentive': df[\"incentive\"],\n",
    "            'idle_time': df[\"idle_time\"],\n",
    "            'idle_men': df[\"idle_men\"],\n",
    "            'no_of_style_change': df[\"no_of_style_change\"],\n",
    "            'no_of_workers': df[\"no_of_workers\"],}\n",
    "\n",
    "num_varsdf = pd.DataFrame(num_vars)\n",
    "\n",
    "Scaler = MinMaxScaler()\n"
   ]
  },
  {
   "cell_type": "code",
   "execution_count": null,
   "metadata": {},
   "outputs": [],
   "source": [
    "x = num_varsdf['smv'].values.reshape(-1, 1) #returns a numpy array\n",
    "Smv_encoded =  Scaler.fit_transform(x) \n",
    "\n",
    "x = num_varsdf['wip'].values.reshape(-1, 1) #returns a numpy array\n",
    "Wip_encoded = Scaler.fit_transform(x)\n",
    "\n",
    "x = num_varsdf['over_time'].values.reshape(-1, 1) #returns a numpy array\n",
    "Over_time_encoded = Scaler.fit_transform(x)\n",
    "\n",
    "x = num_varsdf['incentive'].values.reshape(-1, 1) #returns a numpy array\n",
    "Incentive_encoded = Scaler.fit_transform(x)\n",
    "\n",
    "x = num_varsdf['idle_time'].values.reshape(-1, 1) #returns a numpy array\n",
    "Idle_time_encoded =  Scaler.fit_transform(x) \n",
    "\n",
    "x = num_varsdf['idle_men'].values.reshape(-1, 1) #returns a numpy array\n",
    "Idle_men_encoded = Scaler.fit_transform(x)\n",
    "\n",
    "x = num_varsdf['no_of_style_change'].values.reshape(-1, 1) #returns a numpy array\n",
    "No_of_style_change_encoded = Scaler.fit_transform(x)\n",
    "\n",
    "x = num_varsdf['no_of_workers'].values.reshape(-1, 1) #returns a numpy array\n",
    "No_of_workers_encoded = Scaler.fit_transform(x)\n",
    "\n",
    "Smv_encoded = pd.DataFrame(Smv_encoded)\n",
    "Wip_encoded = pd.DataFrame(Wip_encoded)\n",
    "Over_time_encoded = pd.DataFrame(Over_time_encoded)\n",
    "Incentive_encoded = pd.DataFrame(Incentive_encoded)\n",
    "Idle_time_encoded = pd.DataFrame(Idle_time_encoded)\n",
    "Idle_men_encoded = pd.DataFrame(Idle_men_encoded)\n",
    "No_of_style_change_encoded = pd.DataFrame(No_of_style_change_encoded)\n",
    "No_of_workers_encoded = pd.DataFrame(No_of_workers_encoded)\n",
    "\n",
    "num_varsdf.smv = Smv_encoded\n",
    "num_varsdf.wip = Wip_encoded\n",
    "num_varsdf.over_time = Over_time_encoded\n",
    "num_varsdf.incentive = Incentive_encoded\n",
    "num_varsdf.idle_time = Idle_time_encoded\n",
    "num_varsdf.idle_men = Idle_men_encoded\n",
    "num_varsdf.no_of_style_change = No_of_style_change_encoded\n",
    "num_varsdf.no_of_workers = No_of_workers_encoded\n",
    "\n",
    "# #Splitting the dataset into training and testing variables\n",
    "X_train1, X_test1, y_train1, y_test1 = train_test_split(num_varsdf, df.satisfied, test_size=0.2,random_state=20)\n",
    " \n",
    "#keeping 80% as training data and 20% as testing data."
   ]
  },
  {
   "cell_type": "code",
   "execution_count": null,
   "metadata": {},
   "outputs": [
    {
     "name": "stdout",
     "output_type": "stream",
     "text": [
      "              precision    recall  f1-score   support\n",
      "\n",
      "           0       0.80      0.06      0.11        65\n",
      "           1       0.74      0.99      0.85       175\n",
      "\n",
      "    accuracy                           0.74       240\n",
      "   macro avg       0.77      0.53      0.48       240\n",
      "weighted avg       0.76      0.74      0.65       240\n",
      "\n"
     ]
    }
   ],
   "source": [
    "from sklearn import preprocessing\n",
    "from sklearn.naive_bayes import GaussianNB\n",
    "import numpy as np\n",
    "\n",
    "scaler = preprocessing.StandardScaler()\n",
    "NB = GaussianNB()\n",
    "\n",
    "scaler.fit(X_train1)\n",
    "NB.fit(scaler.transform(X_train1), np.asarray(y_train1))\n",
    "\n",
    "print(classification_report(y_test1, NB.predict(scaler.transform(X_test1))))"
   ]
  },
  {
   "cell_type": "markdown",
   "metadata": {},
   "source": [
    "## Exercies 3 - SVM Classifier (40 points in total)\n",
    "\n",
    "### Exercise 3.1 - Additional Data Preprocessing (10 points)\n"
   ]
  },
  {
   "cell_type": "code",
   "execution_count": null,
   "metadata": {},
   "outputs": [],
   "source": [
    "from sklearn.preprocessing import OneHotEncoder\n",
    "from sklearn import preprocessing\n",
    "from sklearn.svm import SVC, LinearSVC\n",
    "\n",
    "df.satisfied = df.satisfied.apply(int)\n",
    "Scaler = preprocessing.StandardScaler()\n",
    "\n",
    "df_copy = df.copy().drop(columns = ['quarter', 'department', 'team', 'day'])\n",
    "df_copy = pd.concat([df_copy, pd.get_dummies(df['quarter'].apply(str))], axis=1)\n",
    "df_copy = pd.concat([df_copy, pd.get_dummies(df['department'].apply(str))], axis=1)\n",
    "df_copy = pd.concat([df_copy, pd.get_dummies(df['team'].apply(str))], axis=1)\n",
    "df_copy = pd.concat([df_copy, pd.get_dummies(df['day'].apply(str))], axis=1)\n",
    "\n",
    "\n",
    "\n",
    "# #Splitting the dataset into training and testing variables\n",
    "X_train, X_test, y_train, y_test = train_test_split(df_copy.copy().drop(columns = ['satisfied']), df_copy.satisfied, test_size=0.2,random_state=20)\n"
   ]
  },
  {
   "cell_type": "markdown",
   "metadata": {},
   "source": [
    "### Exercise 3.2 - SVM with Different Kernels (20 points)\n"
   ]
  },
  {
   "cell_type": "code",
   "execution_count": null,
   "metadata": {},
   "outputs": [
    {
     "name": "stdout",
     "output_type": "stream",
     "text": [
      "##### SVC with linear kernel #####\n",
      "              precision    recall  f1-score   support\n",
      "\n",
      "           0       0.67      0.12      0.21        65\n",
      "           1       0.75      0.98      0.85       175\n",
      "\n",
      "    accuracy                           0.75       240\n",
      "   macro avg       0.71      0.55      0.53       240\n",
      "weighted avg       0.73      0.75      0.68       240\n",
      " \n",
      "\n",
      "##### SVC with RBF kernel #####\n",
      "              precision    recall  f1-score   support\n",
      "\n",
      "           0       0.68      0.20      0.31        65\n",
      "           1       0.76      0.97      0.85       175\n",
      "\n",
      "    accuracy                           0.76       240\n",
      "   macro avg       0.72      0.58      0.58       240\n",
      "weighted avg       0.74      0.76      0.71       240\n",
      " \n",
      "\n"
     ]
    }
   ],
   "source": [
    "from sklearn.svm import SVC, LinearSVC\n",
    "from sklearn.metrics import classification_report\n",
    "\n",
    "scaler = preprocessing.StandardScaler()\n",
    "\n",
    "clf = SVC(kernel='linear')\n",
    "clf_li = LinearSVC(dual=False)\n",
    "\n",
    "scaler.fit(X_train)\n",
    "\n",
    "clf.fit(scaler.transform(X_train), np.asarray(y_train))\n",
    "\n",
    "\n",
    "print('##### SVC with linear kernel #####')\n",
    "print(classification_report(y_test, clf.predict(scaler.transform(X_test))), '\\n')\n",
    "\n",
    "clf = SVC(kernel = 'rbf')\n",
    "          \n",
    "clf.fit(scaler.transform(X_train), np.asarray(y_train))\n",
    "\n",
    "print('##### SVC with RBF kernel #####')\n",
    "print(classification_report(y_test, clf.predict(scaler.transform(X_test))), '\\n')\n",
    "\n"
   ]
  },
  {
   "cell_type": "markdown",
   "metadata": {},
   "source": [
    "### Exercise 3.3 - SVM with Over-sampling (10 points)"
   ]
  },
  {
   "cell_type": "code",
   "execution_count": 17,
   "metadata": {},
   "outputs": [
    {
     "ename": "ModuleNotFoundError",
     "evalue": "No module named 'imblearn'",
     "output_type": "error",
     "traceback": [
      "\u001b[1;31m---------------------------------------------------------------------------\u001b[0m",
      "\u001b[1;31mModuleNotFoundError\u001b[0m                       Traceback (most recent call last)",
      "\u001b[1;32mc:\\Users\\austin lew\\Documents\\ECS_171_machineLearning\\machine_learning_hw3\\HW3\\Machine_learning_HW3.ipynb Cell 19'\u001b[0m in \u001b[0;36m<cell line: 1>\u001b[1;34m()\u001b[0m\n\u001b[1;32m----> <a href='vscode-notebook-cell:/c%3A/Users/austin%20lew/Documents/ECS_171_machineLearning/machine_learning_hw3/HW3/Machine_learning_HW3.ipynb#ch0000018?line=0'>1</a>\u001b[0m \u001b[39mfrom\u001b[39;00m \u001b[39mimblearn\u001b[39;00m\u001b[39m.\u001b[39;00m\u001b[39mover_sampling\u001b[39;00m \u001b[39mimport\u001b[39;00m RandomOverSampler \n\u001b[0;32m      <a href='vscode-notebook-cell:/c%3A/Users/austin%20lew/Documents/ECS_171_machineLearning/machine_learning_hw3/HW3/Machine_learning_HW3.ipynb#ch0000018?line=3'>4</a>\u001b[0m \u001b[39mprint\u001b[39m(\u001b[39m\"\u001b[39m\u001b[39mvalue counts for satisfied:\u001b[39m\u001b[39m\"\u001b[39m)\n\u001b[0;32m      <a href='vscode-notebook-cell:/c%3A/Users/austin%20lew/Documents/ECS_171_machineLearning/machine_learning_hw3/HW3/Machine_learning_HW3.ipynb#ch0000018?line=4'>5</a>\u001b[0m y_train\u001b[39m.\u001b[39mvalue_counts()\n",
      "\u001b[1;31mModuleNotFoundError\u001b[0m: No module named 'imblearn'"
     ]
    }
   ],
   "source": [
    "from imblearn.over_sampling import RandomOverSampler \n",
    "\n",
    "\n",
    "print(\"value counts for satisfied:\")\n",
    "y_train.value_counts()\n"
   ]
  },
  {
   "cell_type": "code",
   "execution_count": null,
   "metadata": {},
   "outputs": [],
   "source": [
    "ros = RandomOverSampler(random_state=42)\n",
    "X_res, y_res = ros.fit_resample(X_train, y_train)\n",
    "y_res.value_counts()"
   ]
  },
  {
   "cell_type": "code",
   "execution_count": null,
   "metadata": {},
   "outputs": [],
   "source": [
    "scaler = preprocessing.StandardScaler()\n",
    "\n",
    "clf = SVC(kernel='linear')\n",
    "clf_li = LinearSVC(dual=False)\n",
    "\n",
    "scaler.fit(X_train)\n",
    "\n",
    "clf.fit(scaler.transform(X_res), np.asarray(y_res))\n",
    "\n",
    "\n",
    "print('##### SVC with linear kernel #####')\n",
    "print(classification_report(y_test, clf.predict(scaler.transform(X_test))), '\\n')\n",
    "\n",
    "clf = SVC(kernel = 'rbf')\n",
    "          \n",
    "clf.fit(scaler.transform(X_res), np.asarray(y_res))\n",
    "\n",
    "print('##### SVC with RBF kernel #####')\n",
    "print(classification_report(y_test, clf.predict(scaler.transform(X_test))), '\\n')"
   ]
  }
 ],
 "metadata": {
  "interpreter": {
   "hash": "8511e03213d67b3102df803bbfd9f3594c87d6a47de97c6aef092a22eb5d53b9"
  },
  "kernelspec": {
   "display_name": "Python 3.9.1 64-bit",
   "language": "python",
   "name": "python3"
  },
  "language_info": {
   "codemirror_mode": {
    "name": "ipython",
    "version": 3
   },
   "file_extension": ".py",
   "mimetype": "text/x-python",
   "name": "python",
   "nbconvert_exporter": "python",
   "pygments_lexer": "ipython3",
   "version": "3.9.1"
  },
  "orig_nbformat": 4
 },
 "nbformat": 4,
 "nbformat_minor": 2
}
